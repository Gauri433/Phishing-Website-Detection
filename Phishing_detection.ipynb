{
  "cells": [
    {
      "cell_type": "code",
      "execution_count": null,
      "metadata": {
        "id": "bry9eDZu_8KX"
      },
      "outputs": [],
      "source": [
        "import pandas as pd\n",
        "import numpy as np\n",
        "import re, os\n",
        "from string import printable\n",
        "from sklearn import model_selection\n",
        "from sklearn.model_selection import train_test_split\n",
        "#import gensim\n",
        "import tensorflow as tf\n",
        "from keras.models import Sequential, Model, model_from_json, load_model\n",
        "from keras import regularizers\n",
        "from keras.layers import Dense, Dropout, Activation, Lambda, Flatten\n",
        "from keras.layers import Input, ELU, LSTM, Embedding, Convolution2D, MaxPooling2D, BatchNormalization, Convolution1D, MaxPooling1D, concatenate\n",
        "from keras.preprocessing import sequence\n",
        "from keras.optimizers import SGD, Adam, RMSprop\n",
        "# from keras.utils import np_utils  # This line is removed\n",
        "from keras import backend as K\n",
        "from tensorflow.keras.utils import to_categorical # Use this for one-hot encoding\n",
        "\n",
        "from pathlib import Path\n",
        "import json\n",
        "\n",
        "import warnings\n",
        "warnings.filterwarnings(\"ignore\")"
      ]
    },
    {
      "cell_type": "code",
      "source": [
        "from google.colab import drive\n",
        "drive.mount('/content/drive')"
      ],
      "metadata": {
        "colab": {
          "base_uri": "https://localhost:8080/"
        },
        "id": "XB6GgQaclICH",
        "outputId": "518629be-b586-4a69-bdad-d4e803d479f2"
      },
      "execution_count": null,
      "outputs": [
        {
          "output_type": "stream",
          "name": "stdout",
          "text": [
            "Mounted at /content/drive\n"
          ]
        }
      ]
    },
    {
      "cell_type": "code",
      "execution_count": null,
      "metadata": {
        "id": "tPd_EcTBBEKL"
      },
      "outputs": [],
      "source": [
        "## Load data URL\n",
        "import io\n",
        "df = pd.read_csv('/content/drive/MyDrive/dataset.csv')\n"
      ]
    },
    {
      "cell_type": "code",
      "execution_count": null,
      "metadata": {
        "colab": {
          "base_uri": "https://localhost:8080/"
        },
        "id": "v22ydlEF7WqW",
        "outputId": "ea705ba3-7582-4545-ac03-8a8fcd060f75"
      },
      "outputs": [
        {
          "output_type": "stream",
          "name": "stdout",
          "text": [
            "Matrix dimensions of X:  (194798, 75) Vector dimension of target:  (194798,)\n"
          ]
        }
      ],
      "source": [
        "# Initial Data Preparation URL\n",
        "\n",
        "# Step 1: Convert raw URL string in list of lists where characters that are contained in \"printable\" are stored encoded as integer\n",
        "url_int_tokens = [[printable.index(x) + 1 for x in url if x in printable] for url in df.url]\n",
        "\n",
        "# Step 2: Cut URL string at max_len or pad with zeros if shorter\n",
        "max_len=75\n",
        "X = sequence.pad_sequences(url_int_tokens, maxlen=max_len)\n",
        "\n",
        "# Step 3: Extract labels form df to numpy array\n",
        "y = np.array(df.isMalicious)\n",
        "\n",
        "print('Matrix dimensions of X: ', X.shape, 'Vector dimension of target: ', y.shape)\n"
      ]
    },
    {
      "cell_type": "code",
      "execution_count": null,
      "metadata": {
        "id": "lnOOAcOD70vH"
      },
      "outputs": [],
      "source": [
        "import tensorflow as tf\n",
        "from tensorflow.keras import layers, Model\n",
        "from tensorflow.keras.layers import BatchNormalization, Dropout, SpatialDropout1D\n",
        "\n",
        "def cnn_bilstm_model(input_shape, vocab_size):\n",
        "    input_layer = layers.Input(shape=(input_shape,))\n",
        "\n",
        "    # Embedding layer with Spatial Dropout\n",
        "    embedding = layers.Embedding(input_dim=vocab_size, output_dim=128)(input_layer)\n",
        "    embedding = SpatialDropout1D(0.3)(embedding)\n",
        "\n",
        "    # CNN layers with 'same' padding\n",
        "    cnn_out_1 = layers.Conv1D(filters=256, kernel_size=4, activation='relu', padding='same')(embedding)\n",
        "    cnn_out_2 = layers.Conv1D(filters=256, kernel_size=5, activation='relu', padding='same')(embedding)\n",
        "    cnn_out_3 = layers.Conv1D(filters=256, kernel_size=6, activation='relu', padding='same')(embedding)\n",
        "\n",
        "    # Concatenate the CNN outputs\n",
        "    cnn_out = layers.concatenate([cnn_out_1, cnn_out_2, cnn_out_3])\n",
        "\n",
        "    # Instead of GlobalMaxPooling1D, apply BatchNormalization and Dropout directly to the CNN output:\n",
        "    cnn_out = BatchNormalization()(cnn_out)\n",
        "    cnn_out = Dropout(0.3)(cnn_out)  # Increased dropout for better regularization\n",
        "\n",
        "    # Reshape CNN output to match LSTM input shape\n",
        "    cnn_out = layers.Reshape((cnn_out.shape[1], cnn_out.shape[2]))(cnn_out)\n",
        "\n",
        "    # BiLSTM layer (increased units)\n",
        "    lstm_out = layers.Bidirectional(layers.LSTM(128, return_sequences=True))(cnn_out)  # Increased units, return_sequences=True for stacked LSTMs\n",
        "    lstm_out = layers.Bidirectional(layers.LSTM(64))(lstm_out)  # Added another BiLSTM layer\n",
        "    lstm_out = BatchNormalization()(lstm_out)\n",
        "    lstm_out = Dropout(0.4)(lstm_out)  # Higher dropout in LSTM layers\n",
        "\n",
        "    # Output layer\n",
        "    output_layer = layers.Dense(1, activation='sigmoid')(lstm_out)\n",
        "\n",
        "    # Build the model\n",
        "    model = Model(inputs=input_layer, outputs=output_layer)\n",
        "\n",
        "    return model"
      ]
    },
    {
      "cell_type": "code",
      "execution_count": null,
      "metadata": {
        "id": "BWhNkBcEEghV"
      },
      "outputs": [],
      "source": [
        "X_train, X_test, y_train, y_test = train_test_split(X, y, test_size=0.2, random_state=42)\n"
      ]
    },
    {
      "cell_type": "code",
      "execution_count": null,
      "metadata": {
        "id": "vQvklDsoAYVf"
      },
      "outputs": [],
      "source": [
        "def create_tasks(X, y, num_tasks, task_size):\n",
        "    tasks = []\n",
        "    for _ in range(num_tasks):\n",
        "        indices = np.random.choice(len(X), size=task_size, replace=False)\n",
        "        tasks.append((X[indices], y[indices]))\n",
        "    return tasks\n",
        "\n"
      ]
    },
    {
      "cell_type": "code",
      "execution_count": null,
      "metadata": {
        "id": "y1GWG6U-EnA7"
      },
      "outputs": [],
      "source": [
        "tasks = create_tasks(X_train, y_train, num_tasks=10, task_size=100)\n"
      ]
    },
    {
      "cell_type": "code",
      "execution_count": null,
      "metadata": {
        "id": "eXoEtJYYFt5G"
      },
      "outputs": [],
      "source": [
        "def reptile_train(model, tasks, num_iterations=10, inner_steps=3, outer_steps=3):\n",
        "    # Get the model's initial weights\n",
        "    initial_weights = model.get_weights()\n",
        "\n",
        "    for iteration in range(num_iterations):\n",
        "        # Sample task indices for this iteration\n",
        "        selected_task_indices = np.random.choice(len(tasks), size=outer_steps, replace=False)\n",
        "        selected_tasks = [tasks[i] for i in selected_task_indices]\n",
        "\n",
        "        # Store the updated weights for each task\n",
        "        updated_weights = []\n",
        "\n",
        "        for task in selected_tasks:\n",
        "            X_task, y_task = task\n",
        "            task_model = model  # Use the same model for tasks\n",
        "            task_model.set_weights(initial_weights)  # Reset model to initial weights\n",
        "\n",
        "            # Train the model on the task\n",
        "            task_model.fit(X_task, y_task, epochs=inner_steps, verbose=0)\n",
        "\n",
        "            # Retrieve the updated weights as numpy arrays\n",
        "            updated_weights.append([np.array(w) for w in task_model.get_weights()])\n",
        "\n",
        "        # Ensure consistency in weight shapes\n",
        "        first_weight_shapes = [w.shape for w in updated_weights[0]]\n",
        "        consistent_shapes = all(\n",
        "            all(w1.shape == w2.shape for w1, w2 in zip(task_weights, updated_weights[0]))\n",
        "            for task_weights in updated_weights\n",
        "        )\n",
        "\n",
        "        if consistent_shapes:\n",
        "            # Average the weights from the tasks\n",
        "            average_weights = [\n",
        "                np.mean([task_weights[i] for task_weights in updated_weights], axis=0)\n",
        "                for i in range(len(updated_weights[0]))\n",
        "            ]\n",
        "            # Set the model weights to the averaged weights\n",
        "            model.set_weights(average_weights)\n",
        "        else:\n",
        "            print(\"Warning: Inconsistent weight shapes detected, skipping averaging for this iteration.\")\n",
        "\n",
        "        print(f'Iteration {iteration + 1}/{num_iterations} completed.')\n",
        "\n"
      ]
    },
    {
      "cell_type": "code",
      "execution_count": null,
      "metadata": {
        "colab": {
          "base_uri": "https://localhost:8080/"
        },
        "id": "0PFbaSR2OAYh",
        "outputId": "5fd1f79a-f5e7-477a-c4b8-998259709570"
      },
      "outputs": [
        {
          "output_type": "stream",
          "name": "stdout",
          "text": [
            "Iteration 1/10 completed.\n",
            "Iteration 2/10 completed.\n",
            "Iteration 3/10 completed.\n",
            "Iteration 4/10 completed.\n",
            "Iteration 5/10 completed.\n",
            "Iteration 6/10 completed.\n",
            "Iteration 7/10 completed.\n",
            "Iteration 8/10 completed.\n",
            "Iteration 9/10 completed.\n",
            "Iteration 10/10 completed.\n",
            "1218/1218 [==============================] - 67s 54ms/step - loss: 0.6628 - accuracy: 0.6335\n",
            "Test Loss: 0.6627674102783203, Test Accuracy: 0.6334702372550964\n"
          ]
        }
      ],
      "source": [
        "# Assuming you have your data prepared as X and y\n",
        "X_train, X_test, y_train, y_test = train_test_split(X, y, test_size=0.2, random_state=42)\n",
        "\n",
        "# Create tasks for meta-learning\n",
        "tasks = create_tasks(X_train, y_train, num_tasks=10, task_size=100)\n",
        "\n",
        "# Initialize the CNN-BiLSTM model\n",
        "model = cnn_bilstm_model(input_shape=X_train.shape[1], vocab_size=len(printable))\n",
        "\n",
        "# Compile the model before training\n",
        "model.compile(optimizer='adam', loss='binary_crossentropy', metrics=['accuracy'])\n",
        "\n",
        "# Train the model using the meta-learning approach\n",
        "reptile_train(model, tasks, inner_steps=20)\n",
        "\n",
        "# Evaluate on the test set\n",
        "test_loss, test_accuracy = model.evaluate(X_test, y_test)\n",
        "print(f'Test Loss: {test_loss}, Test Accuracy: {test_accuracy}')\n"
      ]
    },
    {
      "cell_type": "code",
      "execution_count": null,
      "metadata": {
        "colab": {
          "base_uri": "https://localhost:8080/"
        },
        "id": "SyHfkDxxPXXu",
        "outputId": "471cf524-e9f0-4c0f-97db-336886aeec84"
      },
      "outputs": [
        {
          "output_type": "stream",
          "name": "stdout",
          "text": [
            "Collecting keras-tuner\n",
            "  Downloading keras_tuner-1.4.7-py3-none-any.whl.metadata (5.4 kB)\n",
            "Requirement already satisfied: keras in /usr/local/lib/python3.10/dist-packages (from keras-tuner) (2.15.0)\n",
            "Requirement already satisfied: packaging in /usr/local/lib/python3.10/dist-packages (from keras-tuner) (24.1)\n",
            "Requirement already satisfied: requests in /usr/local/lib/python3.10/dist-packages (from keras-tuner) (2.32.3)\n",
            "Collecting kt-legacy (from keras-tuner)\n",
            "  Downloading kt_legacy-1.0.5-py3-none-any.whl.metadata (221 bytes)\n",
            "Requirement already satisfied: charset-normalizer<4,>=2 in /usr/local/lib/python3.10/dist-packages (from requests->keras-tuner) (3.4.0)\n",
            "Requirement already satisfied: idna<4,>=2.5 in /usr/local/lib/python3.10/dist-packages (from requests->keras-tuner) (3.10)\n",
            "Requirement already satisfied: urllib3<3,>=1.21.1 in /usr/local/lib/python3.10/dist-packages (from requests->keras-tuner) (2.2.3)\n",
            "Requirement already satisfied: certifi>=2017.4.17 in /usr/local/lib/python3.10/dist-packages (from requests->keras-tuner) (2024.8.30)\n",
            "Downloading keras_tuner-1.4.7-py3-none-any.whl (129 kB)\n",
            "\u001b[2K   \u001b[90m━━━━━━━━━━━━━━━━━━━━━━━━━━━━━━━━━━━━━━━━\u001b[0m \u001b[32m129.1/129.1 kB\u001b[0m \u001b[31m2.7 MB/s\u001b[0m eta \u001b[36m0:00:00\u001b[0m\n",
            "\u001b[?25hDownloading kt_legacy-1.0.5-py3-none-any.whl (9.6 kB)\n",
            "Installing collected packages: kt-legacy, keras-tuner\n",
            "Successfully installed keras-tuner-1.4.7 kt-legacy-1.0.5\n"
          ]
        }
      ],
      "source": [
        "!pip install keras-tuner\n"
      ]
    },
    {
      "cell_type": "code",
      "execution_count": null,
      "metadata": {
        "colab": {
          "base_uri": "https://localhost:8080/"
        },
        "id": "bOkAN62tVTdN",
        "outputId": "8c25e907-2ab0-49dd-9fa9-ae3282b98d09"
      },
      "outputs": [
        {
          "output_type": "stream",
          "name": "stdout",
          "text": [
            "Trial 1 Complete [04h 25m 08s]\n",
            "val_accuracy: 0.9757956862449646\n",
            "\n",
            "Best val_accuracy So Far: 0.9757956862449646\n",
            "Total elapsed time: 04h 25m 08s\n",
            "Iteration 1/10 completed.\n",
            "Iteration 2/10 completed.\n",
            "Iteration 3/10 completed.\n",
            "Iteration 4/10 completed.\n",
            "Iteration 5/10 completed.\n",
            "Iteration 6/10 completed.\n",
            "Iteration 7/10 completed.\n",
            "Iteration 8/10 completed.\n",
            "Iteration 9/10 completed.\n",
            "Iteration 10/10 completed.\n",
            "Best model saved successfully as bestmodel.h5.\n"
          ]
        }
      ],
      "source": [
        "import numpy as np\n",
        "import pandas as pd\n",
        "import tensorflow as tf\n",
        "from kerastuner import HyperModel, RandomSearch\n",
        "from sklearn.model_selection import train_test_split\n",
        "\n",
        "# Assuming you have your data prepared as X and y\n",
        "X_train, X_test, y_train, y_test = train_test_split(X, y, test_size=0.2, random_state=42)\n",
        "\n",
        "# HyperModel definition\n",
        "class MyHyperModel(HyperModel):\n",
        "    def build(self, hp):\n",
        "        model = cnn_bilstm_model(input_shape=X_train.shape[1], vocab_size=len(printable))\n",
        "        model.compile(\n",
        "            optimizer=tf.keras.optimizers.Adam(\n",
        "                learning_rate=hp.Float('learning_rate', min_value=1e-5, max_value=1e-3, sampling='LOG')\n",
        "            ),\n",
        "            loss='binary_crossentropy',\n",
        "            metrics=['accuracy']\n",
        "        )\n",
        "        return model\n",
        "\n",
        "# Custom callback to save training history\n",
        "class HistorySaver(tf.keras.callbacks.Callback):\n",
        "    def __init__(self, save_path, trial_id):\n",
        "        super().__init__()\n",
        "        self.save_path = save_path\n",
        "        self.trial_id = trial_id\n",
        "        self.history_logs = []\n",
        "\n",
        "    def on_epoch_end(self, epoch, logs=None):\n",
        "        if logs:\n",
        "            logs = {\n",
        "                'epoch': epoch,\n",
        "                'accuracy': logs.get('accuracy', None),\n",
        "                'loss': logs.get('loss', None),\n",
        "                'val_accuracy': logs.get('val_accuracy', None),\n",
        "                'val_loss': logs.get('val_loss', None)\n",
        "            }\n",
        "            self.history_logs.append(logs)\n",
        "\n",
        "    def on_train_end(self, logs=None):\n",
        "        if self.history_logs:\n",
        "            history_df = pd.DataFrame(self.history_logs)\n",
        "            history_df.to_csv(f\"{self.save_path}/trial_{self.trial_id}_history.csv\", index=False)\n",
        "        else:\n",
        "            print(\"No training history recorded.\")\n",
        "\n",
        "# Function to perform hyperparameter tuning with Reptile training\n",
        "def perform_hyperparameter_tuning(X_train, y_train, num_tasks=10, task_size=100):\n",
        "    save_path = '/content/drive/My Drive/tuner_results'\n",
        "\n",
        "    # Create tasks for meta-learning\n",
        "    tasks = create_tasks(X_train, y_train, num_tasks=num_tasks, task_size=task_size)\n",
        "\n",
        "    # Initialize the hypermodel and tuner\n",
        "    hypermodel = MyHyperModel()\n",
        "    tuner = RandomSearch(\n",
        "        hypermodel,\n",
        "        objective='val_accuracy',\n",
        "        max_trials=1,  # Set to 1 for only one trial\n",
        "        executions_per_trial=1,\n",
        "        directory=save_path,\n",
        "        project_name='reptile_tuning'\n",
        "    )\n",
        "\n",
        "    # Perform hyperparameter search and save each trial’s history\n",
        "    tuner.search(X_train, y_train, epochs=20, validation_data=(X_test, y_test), batch_size=32)\n",
        "\n",
        "    # Retrieve the best trial and corresponding model\n",
        "    best_trial = tuner.oracle.get_best_trials(num_trials=1)[0]\n",
        "    hp = best_trial.hyperparameters\n",
        "    best_model = hypermodel.build(hp)\n",
        "\n",
        "    # Initialize the history saver for the best trial\n",
        "    history_saver = HistorySaver(save_path, trial_id=\"best\")\n",
        "\n",
        "    # Train the best model\n",
        "    best_model.fit(X_train, y_train, epochs=20, verbose=0, callbacks=[history_saver])\n",
        "    reptile_train(best_model, tasks, inner_steps=3)\n",
        "\n",
        "    # Save the model history for the best trial\n",
        "    history_saver.on_train_end()\n",
        "\n",
        "    # Save only the best model\n",
        "    best_model.save('/content/drive/My Drive/tuner_results/bestmodel.h5')\n",
        "    print(\"Best model saved successfully as bestmodel.h5.\")\n",
        "\n",
        "# Run the hyperparameter tuning\n",
        "perform_hyperparameter_tuning(X_train, y_train)\n",
        "\n"
      ]
    },
    {
      "cell_type": "code",
      "source": [
        "# Evaluate on the test set\n",
        "test_loss, test_accuracy = best_model.evaluate(X_test, y_test)\n",
        "print(f'Test Loss: {test_loss}, Test Accuracy: {test_accuracy}')"
      ],
      "metadata": {
        "colab": {
          "base_uri": "https://localhost:8080/"
        },
        "id": "vH7TZpQOlSVa",
        "outputId": "424d2e07-fe1d-4db3-df1b-d535a4c5113b"
      },
      "execution_count": null,
      "outputs": [
        {
          "output_type": "stream",
          "name": "stdout",
          "text": [
            "1218/1218 [==============================] - 67s 54ms/step - loss: 0.0874 - accuracy: 0.9750\n",
            "Test Loss: 0.08742957562208176, Test Accuracy: 0.9749743342399597\n"
          ]
        }
      ]
    },
    {
      "cell_type": "code",
      "source": [
        "import pandas as pd\n",
        "import matplotlib.pyplot as plt\n",
        "\n",
        "# Load the CSV file (replace with your Google Drive path if needed)\n",
        "data = pd.read_csv('/content/drive/MyDrive/tuner_results/history.csv')\n",
        "\n",
        "# Create a subplot with 1 row and 2 columns\n",
        "fig, (ax1, ax2) = plt.subplots(1, 2, figsize=(14, 6))\n",
        "\n",
        "# Plot Accuracy and Validation Accuracy\n",
        "ax1.plot(data['Epoch'], data['Training Accuracy'], label='Training Accuracy', color='blue')\n",
        "ax1.plot(data['Epoch'], data['Validation Accuracy'], label='Validation Accuracy', color='orange')\n",
        "ax1.set_title('Accuracy vs Epochs')\n",
        "ax1.set_xlabel('Epochs')\n",
        "ax1.set_ylabel('Accuracy')\n",
        "ax1.legend()\n",
        "\n",
        "# Plot Loss and Validation Loss\n",
        "ax2.plot(data['Epoch'], data['Training Loss'], label='Training Loss', color='blue')\n",
        "ax2.plot(data['Epoch'], data['Validation Loss'], label='Validation Loss', color='orange')\n",
        "ax2.set_title('Loss vs Epochs')\n",
        "ax2.set_xlabel('Epochs')\n",
        "ax2.set_ylabel('Loss')\n",
        "ax2.legend()\n",
        "\n",
        "# Display the plot\n",
        "plt.tight_layout()\n",
        "plt.show()\n"
      ],
      "metadata": {
        "colab": {
          "base_uri": "https://localhost:8080/",
          "height": 381
        },
        "id": "Vy-Q1dA9oeUf",
        "outputId": "f191d319-2dbb-420f-d1a4-c69126cdbd0f"
      },
      "execution_count": null,
      "outputs": [
        {
          "output_type": "display_data",
          "data": {
            "text/plain": [
              "<Figure size 1400x600 with 2 Axes>"
            ],
            "image/png": "[encoded data removed]"
          },
          "metadata": {}
        }
      ]
    },
    {
      "cell_type": "code",
      "source": [
        "from tensorflow.keras.models import load_model\n",
        "\n",
        "# Load the best model\n",
        "best_model = load_model('/content/drive/MyDrive/tuner_results/bestmodel.h5')"
      ],
      "metadata": {
        "id": "lXv9LYWKqaty"
      },
      "execution_count": null,
      "outputs": []
    },
    {
      "cell_type": "code",
      "source": [
        "from sklearn.metrics import precision_score, recall_score, f1_score\n",
        "\n",
        "# Predict on the test set using the trained best model\n",
        "y_pred = (best_model.predict(X_test) > 0.5).astype(int)\n",
        "\n",
        "# Calculate precision, recall, and F1-score\n",
        "precision = precision_score(y_test, y_pred)\n",
        "recall = recall_score(y_test, y_pred)\n",
        "f1 = f1_score(y_test, y_pred)\n",
        "\n",
        "# Print the results\n",
        "print(f'Precision: {precision:.4f}')\n",
        "print(f'Recall: {recall:.4f}')\n",
        "print(f'F1-score: {f1:.4f}')\n"
      ],
      "metadata": {
        "colab": {
          "base_uri": "https://localhost:8080/"
        },
        "id": "eyU2QYh75868",
        "outputId": "e00e51d0-e9ad-46c5-d629-5c3934218bb3"
      },
      "execution_count": null,
      "outputs": [
        {
          "output_type": "stream",
          "name": "stdout",
          "text": [
            "1218/1218 [==============================] - 67s 54ms/step\n",
            "Precision: 0.9780\n",
            "Recall: 0.9717\n",
            "F1-score: 0.9749\n"
          ]
        }
      ]
    },
    {
      "cell_type": "code",
      "source": [
        "import matplotlib.pyplot as plt\n",
        "from sklearn.metrics import confusion_matrix\n",
        "import seaborn as sns\n",
        "\n",
        "# Calculate the confusion matrix\n",
        "cm = confusion_matrix(y_test, y_pred)\n",
        "\n",
        "# Plot the confusion matrix using seaborn heatmap\n",
        "#plt.figure(figsize=(8, 6))\n",
        "sns.heatmap(cm, annot=True, fmt=\"d\", cmap=\"Blues\", cbar=False, xticklabels=['Non-Phishing', 'Phishing'], yticklabels=['Non-Phishing', 'Phishing'])\n",
        "plt.xlabel(\"Predicted Labels\")\n",
        "plt.ylabel(\"True Labels\")\n",
        "plt.title(\"Confusion Matrix\")\n",
        "plt.show()\n"
      ],
      "metadata": {
        "colab": {
          "base_uri": "https://localhost:8080/",
          "height": 472
        },
        "id": "_zVuo0l73XsV",
        "outputId": "ceb45045-7004-40fc-b809-6a9dfe701e11"
      },
      "execution_count": null,
      "outputs": [
        {
          "output_type": "display_data",
          "data": {
            "text/plain": [
              "<Figure size 640x480 with 1 Axes>"
            ],
            "image/png": "[encoded data removed]"
          },
          "metadata": {}
        }
      ]
    },
    {
      "cell_type": "code",
      "source": [
        "target_proba = best_model.predict(X_test, batch_size=1)"
      ],
      "metadata": {
        "colab": {
          "base_uri": "https://localhost:8080/"
        },
        "id": "XELXAEsNBGdv",
        "outputId": "256287cf-71df-49d2-c276-50fcc9aa3959"
      },
      "execution_count": null,
      "outputs": [
        {
          "output_type": "stream",
          "name": "stdout",
          "text": [
            "38960/38960 [==============================] - 558s 14ms/step\n"
          ]
        }
      ]
    },
    {
      "cell_type": "code",
      "source": [
        "def print_result(proba):\n",
        "    if proba > 0.5:\n",
        "        return \"Phishing website\"\n",
        "    else:\n",
        "        return \"Legitimate website\""
      ],
      "metadata": {
        "id": "cwkS8CtND__R"
      },
      "execution_count": null,
      "outputs": []
    },
    {
      "cell_type": "markdown",
      "source": [
        "**TESTING**"
      ],
      "metadata": {
        "id": "jvLaDqWtzjNj"
      }
    },
    {
      "cell_type": "code",
      "source": [
        "\n",
        "url = \"https://tkmce.ac.in/ug-programmes\"\n",
        "\n",
        "# Step 1: Convert raw URL string in list of lists where characters that are contained in \"printable\" are stored encoded as integer\n",
        "url_int_tokens = [[printable.index(x) + 1 for x in url if x in printable]]\n",
        "\n",
        "# Step 2: Cut URL string at max_len or pad with zeros if shorter\n",
        "max_len=75\n",
        "X = sequence.pad_sequences(url_int_tokens, maxlen=max_len)\n",
        "probab=best_model.predict(X,batch_size=1)\n",
        "print(print_result(probab))"
      ],
      "metadata": {
        "colab": {
          "base_uri": "https://localhost:8080/"
        },
        "id": "OzFCD6KiEDcu",
        "outputId": "a75b1085-acf1-42de-b81d-99fed07d34c4"
      },
      "execution_count": null,
      "outputs": [
        {
          "output_type": "stream",
          "name": "stdout",
          "text": [
            "1/1 [==============================] - 0s 40ms/step\n",
            "Legitimate website\n"
          ]
        }
      ]
    },
    {
      "cell_type": "code",
      "source": [
        "\n",
        "url = \"http://bankofamerica-security-alert.com/login\"\n",
        "# Step 1: Convert raw URL string in list of lists where characters that are contained in \"printable\" are stored encoded as integer\n",
        "url_int_tokens = [[printable.index(x) + 1 for x in url if x in printable]]\n",
        "\n",
        "# Step 2: Cut URL string at max_len or pad with zeros if shorter\n",
        "max_len=75\n",
        "X = sequence.pad_sequences(url_int_tokens, maxlen=max_len)\n",
        "probab=best_model.predict(X,batch_size=1)\n",
        "print(print_result(probab))"
      ],
      "metadata": {
        "colab": {
          "base_uri": "https://localhost:8080/"
        },
        "id": "8O02KzRLuJ8t",
        "outputId": "e11d2b52-6b22-4560-830f-19eb7fe0cce4"
      },
      "execution_count": null,
      "outputs": [
        {
          "output_type": "stream",
          "name": "stdout",
          "text": [
            "1/1 [==============================] - 0s 39ms/step\n",
            "Phishing website\n"
          ]
        }
      ]
    },
    {
      "cell_type": "code",
      "source": [
        "url = \"https://help.emailoctopus.com/article/185-integrating-with-carrd\"\n",
        "# Step 1: Convert raw URL string in list of lists where characters that are contained in \"printable\" are stored encoded as integer\n",
        "url_int_tokens = [[printable.index(x) + 1 for x in url if x in printable]]\n",
        "\n",
        "# Step 2: Cut URL string at max_len or pad with zeros if shorter\n",
        "max_len=75\n",
        "X = sequence.pad_sequences(url_int_tokens, maxlen=max_len)\n",
        "probab=best_model.predict(X,batch_size=1)\n",
        "print(print_result(probab))"
      ],
      "metadata": {
        "colab": {
          "base_uri": "https://localhost:8080/"
        },
        "id": "QjM3L0PlxJFz",
        "outputId": "e0cc407e-c6fd-49d9-a1f6-e13709c5fcbb"
      },
      "execution_count": null,
      "outputs": [
        {
          "output_type": "stream",
          "name": "stdout",
          "text": [
            "1/1 [==============================] - 0s 37ms/step\n",
            "Legitimate website\n"
          ]
        }
      ]
    },
    {
      "cell_type": "code",
      "source": [
        "url = \"kellyscleaningservice.com.au/wp-admin/maint/gmail\"\n",
        "# Step 1: Convert raw URL string in list of lists where characters that are contained in \"printable\" are stored encoded as integer\n",
        "url_int_tokens = [[printable.index(x) + 1 for x in url if x in printable]]\n",
        "\n",
        "# Step 2: Cut URL string at max_len or pad with zeros if shorter\n",
        "max_len=75\n",
        "X = sequence.pad_sequences(url_int_tokens, maxlen=max_len)\n",
        "probab=best_model.predict(X,batch_size=1)\n",
        "print(print_result(probab))"
      ],
      "metadata": {
        "colab": {
          "base_uri": "https://localhost:8080/"
        },
        "id": "u2Jeldnvymcb",
        "outputId": "1a4d67e0-dbfd-4ddb-ce49-6ebb0725d824"
      },
      "execution_count": null,
      "outputs": [
        {
          "output_type": "stream",
          "name": "stdout",
          "text": [
            "1/1 [==============================] - 0s 38ms/step\n",
            "Phishing website\n"
          ]
        }
      ]
    },
    {
      "cell_type": "code",
      "source": [
        "import tensorflow as tf\n",
        "\n",
        "# Load the best model from Google Drive\n",
        "model_path = '/content/drive/MyDrive/tuner_results/bestmodel.h5'\n",
        "best_model = tf.keras.models.load_model(model_path)\n",
        "\n",
        "# Confirm the model is loaded\n",
        "best_model.summary()\n"
      ],
      "metadata": {
        "colab": {
          "base_uri": "https://localhost:8080/"
        },
        "id": "sFCT1uDfFytp",
        "outputId": "7b2b1828-1bf8-4634-8524-8c5b031b3f42"
      },
      "execution_count": null,
      "outputs": [
        {
          "output_type": "stream",
          "name": "stdout",
          "text": [
            "Model: \"model_1\"\n",
            "__________________________________________________________________________________________________\n",
            " Layer (type)                Output Shape                 Param #   Connected to                  \n",
            "==================================================================================================\n",
            " input_2 (InputLayer)        [(None, 75)]                 0         []                            \n",
            "                                                                                                  \n",
            " embedding_1 (Embedding)     (None, 75, 128)              12800     ['input_2[0][0]']             \n",
            "                                                                                                  \n",
            " spatial_dropout1d_1 (Spati  (None, 75, 128)              0         ['embedding_1[0][0]']         \n",
            " alDropout1D)                                                                                     \n",
            "                                                                                                  \n",
            " conv1d_3 (Conv1D)           (None, 75, 256)              131328    ['spatial_dropout1d_1[0][0]'] \n",
            "                                                                                                  \n",
            " conv1d_4 (Conv1D)           (None, 75, 256)              164096    ['spatial_dropout1d_1[0][0]'] \n",
            "                                                                                                  \n",
            " conv1d_5 (Conv1D)           (None, 75, 256)              196864    ['spatial_dropout1d_1[0][0]'] \n",
            "                                                                                                  \n",
            " concatenate_1 (Concatenate  (None, 75, 768)              0         ['conv1d_3[0][0]',            \n",
            " )                                                                   'conv1d_4[0][0]',            \n",
            "                                                                     'conv1d_5[0][0]']            \n",
            "                                                                                                  \n",
            " batch_normalization_2 (Bat  (None, 75, 768)              3072      ['concatenate_1[0][0]']       \n",
            " chNormalization)                                                                                 \n",
            "                                                                                                  \n",
            " dropout_2 (Dropout)         (None, 75, 768)              0         ['batch_normalization_2[0][0]'\n",
            "                                                                    ]                             \n",
            "                                                                                                  \n",
            " reshape_1 (Reshape)         (None, 75, 768)              0         ['dropout_2[0][0]']           \n",
            "                                                                                                  \n",
            " bidirectional_2 (Bidirecti  (None, 75, 256)              918528    ['reshape_1[0][0]']           \n",
            " onal)                                                                                            \n",
            "                                                                                                  \n",
            " bidirectional_3 (Bidirecti  (None, 128)                  164352    ['bidirectional_2[0][0]']     \n",
            " onal)                                                                                            \n",
            "                                                                                                  \n",
            " batch_normalization_3 (Bat  (None, 128)                  512       ['bidirectional_3[0][0]']     \n",
            " chNormalization)                                                                                 \n",
            "                                                                                                  \n",
            " dropout_3 (Dropout)         (None, 128)                  0         ['batch_normalization_3[0][0]'\n",
            "                                                                    ]                             \n",
            "                                                                                                  \n",
            " dense_1 (Dense)             (None, 1)                    129       ['dropout_3[0][0]']           \n",
            "                                                                                                  \n",
            "==================================================================================================\n",
            "Total params: 1591681 (6.07 MB)\n",
            "Trainable params: 1589889 (6.06 MB)\n",
            "Non-trainable params: 1792 (7.00 KB)\n",
            "__________________________________________________________________________________________________\n"
          ]
        }
      ]
    }
  ],
  "metadata": {
    "accelerator": "TPU",
    "colab": {
      "gpuType": "V28",
      "machine_shape": "hm",
      "provenance": []
    },
    "kernelspec": {
      "display_name": "Python 3",
      "name": "python3"
    },
    "language_info": {
      "name": "python"
    }
  },
  "nbformat": 4,
  "nbformat_minor": 0
}